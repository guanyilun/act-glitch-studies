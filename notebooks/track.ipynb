{
 "cells": [
  {
   "cell_type": "code",
   "execution_count": 5,
   "metadata": {
    "collapsed": true
   },
   "outputs": [],
   "source": [
    "import cPickle\n",
    "from pixels import PixelReader\n",
    "import numpy as np\n",
    "from matplotlib import pyplot as plt\n",
    "%matplotlib inline"
   ]
  },
  {
   "cell_type": "code",
   "execution_count": 6,
   "metadata": {
    "collapsed": true
   },
   "outputs": [],
   "source": [
    "cut_id = 43"
   ]
  },
  {
   "cell_type": "code",
   "execution_count": 7,
   "metadata": {
    "collapsed": true
   },
   "outputs": [],
   "source": [
    "pr = PixelReader()"
   ]
  },
  {
   "cell_type": "code",
   "execution_count": 8,
   "metadata": {},
   "outputs": [],
   "source": [
    "cut_data = cPickle.load(open(\"outputs/coincident_signals/%d.pickle\" % cut_id, \"r\"))"
   ]
  },
  {
   "cell_type": "code",
   "execution_count": 9,
   "metadata": {},
   "outputs": [
    {
     "data": {
      "text/plain": [
       "['hist', 'coincident_signals', 'peaks']"
      ]
     },
     "execution_count": 9,
     "metadata": {},
     "output_type": "execute_result"
    }
   ],
   "source": [
    "cut_data.keys()"
   ]
  },
  {
   "cell_type": "code",
   "execution_count": 11,
   "metadata": {},
   "outputs": [],
   "source": [
    "def cut_contains(cv, v):\n",
    "    for c in cv:\n",
    "        if c[0]<=v and c[1]>=v:\n",
    "            return True\n",
    "    return False"
   ]
  },
  {
   "cell_type": "code",
   "execution_count": 12,
   "metadata": {
    "collapsed": true
   },
   "outputs": [],
   "source": [
    "def find_peaks(hist):\n",
    "    nsamps = len(hist)\n",
    "    last = 0\n",
    "    peaks = []\n",
    "    for i in range(nsamps):\n",
    "        if hist[i] > 0 and last == 0:\n",
    "            peak_start = i    \n",
    "        if hist[i] == 0 and last > 0:\n",
    "            peak_end = i\n",
    "            peak_amp = max(hist[peak_start:peak_end])\n",
    "            peak_duration = peak_end - peak_start\n",
    "            peaks.append([peak_start, peak_end, peak_duration, peak_amp])\n",
    "        last = hist[i]\n",
    "    return peaks"
   ]
  },
  {
   "cell_type": "code",
   "execution_count": 13,
   "metadata": {},
   "outputs": [
    {
     "data": {
      "text/plain": [
       "[[3469, 3476, 7, 3],\n",
       " [13687, 13689, 2, 1],\n",
       " [29463, 29466, 3, 1],\n",
       " [30811, 30812, 1, 1],\n",
       " [39306, 39312, 6, 5],\n",
       " [59862, 59866, 4, 1],\n",
       " [63216, 63219, 3, 1],\n",
       " [78331, 78333, 2, 1],\n",
       " [87818, 87825, 7, 4],\n",
       " [96105, 96109, 4, 1],\n",
       " [105283, 105289, 6, 6],\n",
       " [125188, 125190, 2, 1],\n",
       " [172470, 172473, 3, 2],\n",
       " [185408, 185411, 3, 1],\n",
       " [199845, 199847, 2, 1],\n",
       " [200149, 200288, 139, 30],\n",
       " [226885, 226890, 5, 1],\n",
       " [243604, 243606, 2, 1],\n",
       " [245949, 245955, 6, 7],\n",
       " [248045, 248051, 6, 4],\n",
       " [255784, 255787, 3, 1]]"
      ]
     },
     "execution_count": 13,
     "metadata": {},
     "output_type": "execute_result"
    }
   ],
   "source": [
    "find_peaks(cut_data['hist'])"
   ]
  },
  {
   "cell_type": "markdown",
   "metadata": {},
   "source": [
    "Say for example if we are interested in [200149, 200288, 139, 30]. Do not care about the computational complexity"
   ]
  },
  {
   "cell_type": "code",
   "execution_count": 14,
   "metadata": {},
   "outputs": [],
   "source": [
    "cs = cut_data['coincident_signals']\n",
    "v = 200149\n",
    "pixels = [int(p) for p in cs if cut_contains(cs[p], v)]"
   ]
  },
  {
   "cell_type": "code",
   "execution_count": 15,
   "metadata": {},
   "outputs": [
    {
     "data": {
      "text/plain": [
       "[73]"
      ]
     },
     "execution_count": 15,
     "metadata": {},
     "output_type": "execute_result"
    }
   ],
   "source": [
    "pixels"
   ]
  },
  {
   "cell_type": "code",
   "execution_count": 16,
   "metadata": {
    "collapsed": true
   },
   "outputs": [],
   "source": [
    "def pixels_affected(cs, v):\n",
    "    return [int(p) for p in cs if cut_contains(cs[p], v)]"
   ]
  },
  {
   "cell_type": "code",
   "execution_count": 17,
   "metadata": {},
   "outputs": [
    {
     "data": {
      "text/plain": [
       "[334, 271, 399, 9, 73]"
      ]
     },
     "execution_count": 17,
     "metadata": {},
     "output_type": "execute_result"
    }
   ],
   "source": [
    "pixels_affected(cs, 200277)"
   ]
  },
  {
   "cell_type": "code",
   "execution_count": 18,
   "metadata": {},
   "outputs": [],
   "source": [
    "def affected_pos(cs, v):\n",
    "    pixels = pixels_affected(cs, v)\n",
    "    pos = np.array([pr.getXY(p) for p in pixels])\n",
    "    return np.mean(pos, 0)"
   ]
  },
  {
   "cell_type": "code",
   "execution_count": 20,
   "metadata": {},
   "outputs": [
    {
     "data": {
      "text/plain": [
       "array([ 4.032, -2.044])"
      ]
     },
     "execution_count": 20,
     "metadata": {},
     "output_type": "execute_result"
    }
   ],
   "source": [
    "affected_pos(cs, 200277)"
   ]
  },
  {
   "cell_type": "code",
   "execution_count": 48,
   "metadata": {
    "collapsed": true
   },
   "outputs": [],
   "source": [
    "def get_track(cs, time_range):\n",
    "    start_v = time_range[0]\n",
    "    end_v = time_range[1]\n",
    "    return np.vstack([affected_pos(cs, v) for v in range(start_v, end_v)])"
   ]
  },
  {
   "cell_type": "code",
   "execution_count": 49,
   "metadata": {},
   "outputs": [],
   "source": [
    "pos = get_track(cs, [200149, 200288])"
   ]
  },
  {
   "cell_type": "code",
   "execution_count": 50,
   "metadata": {},
   "outputs": [
    {
     "data": {
      "text/plain": [
       "<matplotlib.collections.PathCollection at 0x723b690>"
      ]
     },
     "execution_count": 50,
     "metadata": {},
     "output_type": "execute_result"
    },
    {
     "data": {
      "image/png": "[encoded data removed]",
      "text/plain": [
       "<matplotlib.figure.Figure at 0x66b9a50>"
      ]
     },
     "metadata": {},
     "output_type": "display_data"
    }
   ],
   "source": [
    "plt.figure(figsize=(10,10))\n",
    "pr.plot()\n",
    "plt.scatter(pos[:,0],pos[:,1], alpha=0.5)\n",
    "# plt.plot(pos[:,0],pos[:,1])"
   ]
  },
  {
   "cell_type": "code",
   "execution_count": null,
   "metadata": {},
   "outputs": [],
   "source": [
    "# next we will plot the track for all coincident signals in this cut data"
   ]
  },
  {
   "cell_type": "code",
   "execution_count": 46,
   "metadata": {},
   "outputs": [],
   "source": [
    "signals = [p[0:2] for p in find_peaks(cut_data['hist'])]"
   ]
  },
  {
   "cell_type": "code",
   "execution_count": 53,
   "metadata": {},
   "outputs": [
    {
     "data": {
      "image/png": "[encoded data removed]",
      "text/plain": [
       "<matplotlib.figure.Figure at 0x7253b90>"
      ]
     },
     "metadata": {},
     "output_type": "display_data"
    }
   ],
   "source": [
    "plt.figure(figsize=(10,10))\n",
    "pr.plot()\n",
    "for s in signals:\n",
    "    pos = get_track(cs, s)\n",
    "    plt.scatter(pos[:,0], pos[:,1], alpha=0.7)\n",
    "    plt.plot(pos[:,0],pos[:,1])"
   ]
  },
  {
   "cell_type": "markdown",
   "metadata": {},
   "source": [
    "Work with a general cut"
   ]
  },
  {
   "cell_type": "code",
   "execution_count": 65,
   "metadata": {},
   "outputs": [
    {
     "name": "stdout",
     "output_type": "stream",
     "text": [
      "[[6677, 6684], [16175, 16180], [29565, 29568], [39557, 39558], [45276, 45282], [46097, 46102], [47383, 47385], [49883, 49886], [52890, 52897], [57665, 57672], [61766, 61769], [88644, 88652], [99808, 99813], [120321, 120327], [131546, 131550], [133316, 133320], [136101, 136109], [138468, 138472], [151692, 151697], [156162, 156163], [165538, 165544], [167422, 167428], [169387, 169392], [179949, 179955], [198457, 198460], [202315, 202336], [207746, 207752], [236219, 236221], [242105, 242106]]\n"
     ]
    },
    {
     "data": {
      "image/png": "[encoded data removed]",
      "text/plain": [
       "<matplotlib.figure.Figure at 0x6655e10>"
      ]
     },
     "metadata": {},
     "output_type": "display_data"
    }
   ],
   "source": [
    "cut_id = 44\n",
    "cut_data = cPickle.load(open(\"outputs/coincident_signals/%d.pickle\" % cut_id, \"r\"))\n",
    "cs = cut_data['coincident_signals']\n",
    "signals = [p[0:2] for p in find_peaks(cut_data['hist'])]\n",
    "plt.figure(figsize=(10,10))\n",
    "pr.plot()\n",
    "for s in signals:\n",
    "    pos = get_track(cs, s)\n",
    "    plt.scatter(pos[:,0], pos[:,1], alpha=0.7)\n",
    "    plt.plot(pos[:,0],pos[:,1])"
   ]
  },
  {
   "cell_type": "code",
   "execution_count": null,
   "metadata": {
    "collapsed": true
   },
   "outputs": [],
   "source": []
  }
 ],
 "metadata": {
  "kernelspec": {
   "display_name": "Python 2",
   "language": "python",
   "name": "python2"
  },
  "language_info": {
   "codemirror_mode": {
    "name": "ipython",
    "version": 2
   },
   "file_extension": ".py",
   "mimetype": "text/x-python",
   "name": "python",
   "nbconvert_exporter": "python",
   "pygments_lexer": "ipython2",
   "version": "2.7.5"
  }
 },
 "nbformat": 4,
 "nbformat_minor": 2
}
