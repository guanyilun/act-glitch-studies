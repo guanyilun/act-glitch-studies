{
 "cells": [
  {
   "cell_type": "markdown",
   "metadata": {},
   "source": [
    "Study the origin of point sources"
   ]
  },
  {
   "cell_type": "code",
   "execution_count": 1,
   "metadata": {
    "collapsed": true
   },
   "outputs": [],
   "source": [
    "import cPickle\n",
    "import os"
   ]
  },
  {
   "cell_type": "code",
   "execution_count": 2,
   "metadata": {
    "collapsed": true
   },
   "outputs": [],
   "source": [
    "def get_name(cut_id):\n",
    "    data = cPickle.load(open(\"../outputs/cuts/%d.cut\" % cut_id, \"r\"))\n",
    "    return data['TOD']"
   ]
  },
  {
   "cell_type": "code",
   "execution_count": 3,
   "metadata": {},
   "outputs": [
    {
     "data": {
      "text/plain": [
       "'1462240615.1462276147.ar3'"
      ]
     },
     "execution_count": 3,
     "metadata": {},
     "output_type": "execute_result"
    }
   ],
   "source": [
    "get_name(222)"
   ]
  },
  {
   "cell_type": "code",
   "execution_count": 4,
   "metadata": {
    "collapsed": true
   },
   "outputs": [],
   "source": [
    "def get_list_of_names(cut_id_start, cut_id_end):\n",
    "    names = []\n",
    "    for i in range(cut_id_start, cut_id_end+1):\n",
    "        names.append(get_name(i))\n",
    "    return names"
   ]
  },
  {
   "cell_type": "code",
   "execution_count": 5,
   "metadata": {},
   "outputs": [
    {
     "data": {
      "text/plain": [
       "['1462240615.1462276147.ar3',\n",
       " '1462241220.1462276217.ar3',\n",
       " '1462242074.1462276342.ar3',\n",
       " '1462242926.1462276444.ar3',\n",
       " '1462243775.1462276540.ar3',\n",
       " '1462244623.1462276636.ar3',\n",
       " '1462245469.1462276732.ar3',\n",
       " '1462246313.1462276834.ar3',\n",
       " '1462247156.1462275438.ar3',\n",
       " '1462248328.1462275670.ar3',\n",
       " '1462249170.1462275899.ar3',\n",
       " '1462251032.1462286829.ar3']"
      ]
     },
     "execution_count": 5,
     "metadata": {},
     "output_type": "execute_result"
    }
   ],
   "source": [
    "get_list_of_names(222,233)"
   ]
  },
  {
   "cell_type": "code",
   "execution_count": 6,
   "metadata": {
    "collapsed": true
   },
   "outputs": [],
   "source": [
    "def check_origin(tod_name):\n",
    "    source_dir = \"/mnt/act3/users/lmaurin/depot/SelectedTODs/mr3_pa3_s16/selectedTODs_allfields.txt\"\n",
    "    res = os.popen(\"cat %s | grep %s\" %(source_dir, tod_name)).read()\n",
    "    print res\n",
    "    #return res\n",
    "    \n",
    "    "
   ]
  },
  {
   "cell_type": "code",
   "execution_count": 7,
   "metadata": {},
   "outputs": [
    {
     "name": "stdout",
     "output_type": "stream",
     "text": [
      "1462240615.1462276147.ar3\t1.93\t33.54\t101.75\t1.82\t1\tmars\n",
      "\n"
     ]
    }
   ],
   "source": [
    "check_origin('1462240615.1462276147.ar3')"
   ]
  },
  {
   "cell_type": "code",
   "execution_count": 8,
   "metadata": {
    "collapsed": true
   },
   "outputs": [],
   "source": [
    "def check_origin_list(tod_name_list):\n",
    "    for name in tod_name_list:\n",
    "        check_origin(name)"
   ]
  },
  {
   "cell_type": "code",
   "execution_count": 9,
   "metadata": {
    "collapsed": true
   },
   "outputs": [],
   "source": [
    "def check_cut_origin(cut_start, cut_end):\n",
    "    check_origin_list(get_list_of_names(cut_start, cut_end))"
   ]
  },
  {
   "cell_type": "code",
   "execution_count": 50,
   "metadata": {},
   "outputs": [
    {
     "name": "stdout",
     "output_type": "stream",
     "text": [
      "1462240615.1462276147.ar3\t1.93\t33.54\t101.75\t1.82\t1\tmars\n",
      "\n",
      "1462241220.1462276217.ar3\t2.12\t36.76\t100.77\t1.88\t1\tmars\n",
      "\n",
      "1462242074.1462276342.ar3\t2.35\t39.98\t99.81\t1.94\t1\tmars\n",
      "\n",
      "1462242926.1462276444.ar3\t2.58\t43.21\t98.86\t2.02\t1\tmars\n",
      "\n",
      "1462243775.1462276540.ar3\t2.82\t46.43\t97.91\t2.16\t1\tmars\n",
      "\n",
      "1462244623.1462276636.ar3\t3.05\t49.65\t96.96\t2.25\t1\tmars\n",
      "\n",
      "1462245469.1462276732.ar3\t3.28\t52.88\t96.00\t2.12\t1\tmars\n",
      "\n",
      "1462246313.1462276834.ar3\t3.52\t56.10\t95.02\t2.09\t1\tmars\n",
      "\n",
      "1462247156.1462275438.ar3\t3.75\t59.33\t94.01\t2.07\t1\tmars\n",
      "\n",
      "1462248328.1462275670.ar3\t4.08\t55.73\t93.53\t2.03\t1\tsaturn\n",
      "\n",
      "1462249170.1462275899.ar3\t4.32\t58.96\t92.38\t2.01\t1\tsaturn\n",
      "\n"
     ]
    }
   ],
   "source": [
    "check_cut_origin(222, 232)"
   ]
  },
  {
   "cell_type": "code",
   "execution_count": 51,
   "metadata": {},
   "outputs": [
    {
     "name": "stdout",
     "output_type": "stream",
     "text": [
      "1462251032.1462286829.ar3\t4.83\t60.37\t221.14\t2.11\t1\tcen_a\n",
      "\n",
      "1462252270.1462286983.ar3\t5.18\t57.22\t224.70\t2.13\t1\tcen_a\n",
      "\n",
      "1462253432.1462287133.ar3\t5.50\t54.06\t227.25\t2.21\t1\tcen_a\n",
      "\n",
      "1462254551.1462287266.ar3\t5.82\t50.89\t229.09\t2.31\t1\tcen_a\n",
      "\n",
      "1462255639.1462287393.ar3\t6.12\t47.72\t230.42\t2.29\t1\tcen_a\n",
      "\n"
     ]
    }
   ],
   "source": [
    "check_cut_origin(233, 237)"
   ]
  },
  {
   "cell_type": "code",
   "execution_count": 52,
   "metadata": {},
   "outputs": [
    {
     "name": "stdout",
     "output_type": "stream",
     "text": [
      "1462263058.1462298019.ar3\t8.17\t60.35\t265.50\t2.23\t1\tmars\n",
      "\n",
      "1462263899.1462298136.ar3\t8.42\t57.12\t264.62\t2.26\t1\tmars\n",
      "\n",
      "1462264742.1462298235.ar3\t8.65\t53.90\t263.75\t2.25\t1\tmars\n",
      "\n",
      "1462265587.1462298337.ar3\t8.88\t50.67\t262.88\t2.31\t1\tmars\n",
      "\n",
      "1462266431.1462298435.ar3\t9.12\t47.45\t262.01\t2.34\t1\tmars\n",
      "\n",
      "1462267278.1462298535.ar3\t9.35\t44.22\t261.14\t2.38\t1\tmars\n",
      "\n",
      "1462268127.1462297006.ar3\t9.58\t41.00\t260.26\t2.48\t1\tmars\n",
      "\n",
      "1462268978.1462297251.ar3\t9.82\t37.78\t259.36\t2.53\t1\tmars\n",
      "\n",
      "1462269831.1462297453.ar3\t10.05\t34.56\t258.44\t2.55\t1\tmars\n",
      "\n",
      "1462271017.1462297670.ar3\t10.38\t37.74\t260.52\t2.64\t1\tsaturn\n",
      "\n",
      "1462271868.1462297876.ar3\t10.62\t34.51\t259.56\t2.71\t1\tsaturn\n",
      "\n"
     ]
    }
   ],
   "source": [
    "check_cut_origin(244, 254)"
   ]
  },
  {
   "cell_type": "code",
   "execution_count": 60,
   "metadata": {},
   "outputs": [
    {
     "name": "stdout",
     "output_type": "stream",
     "text": [
      "1462282924.1462308876.ar3\t13.70\t50.52\t296.68\t3.15\t1\tground_map\n",
      "\n",
      "1462283582.1462317891.ar3\t13.88\t50.52\t296.68\t3.02\t1\tground_map\n",
      "\n",
      "1462284239.1462318060.ar3\t14.05\t50.52\t296.68\t3.03\t1\tground_map\n",
      "\n",
      "\n",
      "\n",
      "\n",
      "1462307367.1462340880.ar3\t20.48\t50.52\t296.68\t2.21\t1\tground_map\n",
      "\n",
      "1462308024.1462340963.ar3\t20.67\t50.52\t296.68\t2.28\t1\tground_map\n",
      "\n",
      "1462308682.1462341062.ar3\t20.85\t50.52\t296.68\t2.16\t1\tground_map\n",
      "\n",
      "1462309339.1462341148.ar3\t21.03\t50.52\t296.68\t2.19\t1\tground_map\n",
      "\n",
      "1462309996.1462341250.ar3\t21.22\t50.52\t296.68\t2.17\t1\tground_map\n",
      "\n",
      "1462310654.1462341334.ar3\t21.40\t50.52\t296.68\t2.15\t0\tground_map\n",
      "\n",
      "1462311032.1462341382.ar3\t21.50\t50.52\t296.68\t2.30\t1\tground_map\n",
      "\n",
      "1462311689.1462339999.ar3\t21.68\t50.52\t296.68\t2.47\t1\tground_map\n",
      "\n",
      "1462312347.1462340091.ar3\t21.87\t50.52\t296.68\t2.52\t1\tground_map\n",
      "\n",
      "1462313004.1462340371.ar3\t22.05\t50.52\t296.68\t2.58\t1\tground_map\n",
      "\n",
      "1462313662.1462340607.ar3\t22.23\t50.52\t296.68\t2.63\t1\tground_map\n",
      "\n",
      "1462314319.1462340742.ar3\t22.42\t50.52\t296.68\t2.71\t1\tground_map\n",
      "\n",
      "1462315183.1462340789.ar3\t22.65\t60.46\t313.40\t2.81\t1\tground_map\n",
      "\n",
      "1462315841.1462352384.ar3\t22.83\t60.46\t313.40\t2.86\t1\tground_map\n",
      "\n",
      "1462316498.1462352487.ar3\t23.02\t60.46\t313.40\t2.86\t1\tground_map\n",
      "\n",
      "1462317156.1462352589.ar3\t23.20\t60.46\t313.40\t2.83\t1\tground_map\n",
      "\n",
      "1462317813.1462352710.ar3\t23.38\t60.46\t313.40\t2.78\t0\tground_map\n",
      "\n",
      "1462318471.1462352796.ar3\t23.57\t60.46\t313.40\t2.79\t1\tground_map\n",
      "\n",
      "1462318848.1462352844.ar3\t23.67\t60.46\t313.40\t2.80\t1\tground_map\n",
      "\n",
      "1462319506.1462352938.ar3\t23.85\t60.46\t313.40\t2.78\t1\tground_map\n",
      "\n",
      "1462320163.1462350957.ar3\t0.03\t60.46\t313.40\t2.77\t1\tground_map\n",
      "\n",
      "1462320821.1462351165.ar3\t0.22\t60.46\t313.40\t2.73\t1\tground_map\n",
      "\n",
      "1462321478.1462351356.ar3\t0.40\t60.46\t313.40\t2.78\t1\tground_map\n",
      "\n",
      "1462322136.1462351512.ar3\t0.58\t60.46\t313.40\t2.81\t1\tground_map\n",
      "\n",
      "1462322957.1462351557.ar3\t0.82\t60.46\t44.40\t2.77\t1\tground_map\n",
      "\n",
      "1462323614.1462351838.ar3\t1.00\t60.46\t44.40\t2.82\t1\tground_map\n",
      "\n",
      "1462324272.1462352005.ar3\t1.18\t60.46\t44.40\t2.82\t1\tground_map\n",
      "\n",
      "1462324929.1462352172.ar3\t1.37\t60.46\t44.40\t2.94\t1\tground_map\n",
      "\n",
      "1462325587.1462352255.ar3\t1.55\t60.46\t44.40\t2.94\t0\tground_map\n",
      "\n",
      "1462326244.1462352339.ar3\t1.73\t60.46\t44.40\t2.92\t1\tground_map\n",
      "\n",
      "1462326622.1462362086.ar3\t1.83\t60.46\t44.40\t2.93\t1\tground_map\n",
      "\n",
      "1462327279.1462362171.ar3\t2.02\t60.46\t44.40\t2.88\t1\tground_map\n",
      "\n",
      "1462327937.1462362253.ar3\t2.20\t60.46\t44.40\t2.88\t1\tground_map\n",
      "\n",
      "1462328594.1462361388.ar3\t2.38\t60.46\t44.40\t2.84\t1\tground_map\n",
      "\n",
      "1462329252.1462361575.ar3\t2.57\t60.46\t44.40\t2.80\t1\tground_map\n",
      "\n",
      "1462329909.1462361731.ar3\t2.75\t60.46\t44.40\t2.75\t1\tground_map\n",
      "\n",
      "1462330618.1462361787.ar3\t2.93\t50.52\t61.70\t2.84\t1\tground_map\n",
      "\n",
      "1462331275.1462362018.ar3\t3.12\t50.52\t61.70\t2.84\t1\tground_map\n",
      "\n",
      "1462343545.1462372745.ar3\t6.53\t38.54\t67.27\t2.49\t1\tground_map\n",
      "\n",
      "1462344203.1462372829.ar3\t6.72\t38.54\t67.27\t2.50\t1\tground_map\n",
      "\n",
      "1462344860.1462371980.ar3\t6.90\t38.54\t67.27\t2.46\t1\tground_map\n",
      "\n",
      "1462345517.1462372166.ar3\t7.08\t38.54\t67.27\t2.45\t1\tground_map\n",
      "\n",
      "1462346175.1462372387.ar3\t7.27\t38.54\t67.27\t2.42\t1\tground_map\n",
      "\n",
      "1462346832.1462372518.ar3\t7.45\t38.54\t67.27\t2.39\t1\tground_map\n",
      "\n",
      "1462347210.1462372567.ar3\t7.55\t38.54\t67.27\t2.37\t1\tground_map\n",
      "\n",
      "1462347867.1462372649.ar3\t7.73\t38.54\t67.27\t2.41\t1\tground_map\n",
      "\n",
      "1462348525.1462384823.ar3\t7.92\t38.54\t67.27\t2.40\t1\tground_map\n",
      "\n",
      "1462349182.1462384909.ar3\t8.10\t38.54\t67.27\t2.37\t1\tground_map\n",
      "\n",
      "1462349840.1462384994.ar3\t8.28\t38.54\t67.27\t2.41\t1\tground_map\n",
      "\n"
     ]
    }
   ],
   "source": [
    "check_cut_origin(270,324)"
   ]
  },
  {
   "cell_type": "code",
   "execution_count": 53,
   "metadata": {},
   "outputs": [
    {
     "name": "stdout",
     "output_type": "stream",
     "text": [
      "1462396601.1462426222.ar3\t21.27\t33.67\t63.02\t3.35\t0\tjupiter\n",
      "\n",
      "1462397515.1462426298.ar3\t21.52\t36.87\t60.26\t3.47\t0\tjupiter\n",
      "\n",
      "1462398472.1462426381.ar3\t21.78\t40.07\t57.13\t3.20\t0\tjupiter\n",
      "\n",
      "1462399461.1462426520.ar3\t22.07\t43.25\t53.54\t3.19\t0\tjupiter\n",
      "\n"
     ]
    }
   ],
   "source": [
    "check_cut_origin(366, 369)"
   ]
  },
  {
   "cell_type": "code",
   "execution_count": 15,
   "metadata": {},
   "outputs": [
    {
     "name": "stdout",
     "output_type": "stream",
     "text": [
      "1462428311.1462458728.ar3\t6.08\t46.98\t230.51\t4.54\t0\tcen_a\n",
      "\n",
      "1462428876.1462458805.ar3\t6.23\t45.30\t231.03\t3.88\t0\tcen_a\n",
      "\n",
      "1462429436.1462458920.ar3\t6.38\t43.63\t231.45\t3.43\t0\tcen_a\n",
      "\n",
      "1462429995.1462459002.ar3\t6.55\t41.95\t231.79\t3.35\t0\tcen_a\n",
      "\n",
      "1462431110.1462459092.ar3\t6.85\t38.59\t232.22\t2.70\t0\tcen_a\n",
      "\n",
      "1462431658.1462459169.ar3\t7.00\t36.91\t232.34\t2.46\t0\tcen_a\n",
      "\n",
      "1462432210.1462459239.ar3\t7.17\t35.23\t232.39\t2.23\t0\tcen_a\n",
      "\n"
     ]
    }
   ],
   "source": [
    "check_cut_origin(409, 415)"
   ]
  },
  {
   "cell_type": "code",
   "execution_count": 16,
   "metadata": {},
   "outputs": [
    {
     "name": "stdout",
     "output_type": "stream",
     "text": [
      "1462525254.1462557740.ar3\t9.00\t53.83\t265.31\t-\t0\tsaturn\n",
      "\n",
      "1462526097.1462557860.ar3\t9.23\t50.61\t264.34\t-\t0\tsaturn\n",
      "\n",
      "1462526940.1462558018.ar3\t9.48\t47.38\t263.38\t-\t0\tsaturn\n",
      "\n",
      "1462527784.1462556210.ar3\t9.72\t44.16\t262.43\t-\t0\tsaturn\n",
      "\n"
     ]
    }
   ],
   "source": [
    "check_cut_origin(513, 516)"
   ]
  },
  {
   "cell_type": "code",
   "execution_count": 17,
   "metadata": {},
   "outputs": [
    {
     "name": "stdout",
     "output_type": "stream",
     "text": [
      "1462662963.1462695822.ar3\t23.27\t42.05\t127.98\t4.49\t0\tcen_a\n",
      "\n",
      "1462663519.1462695897.ar3\t23.42\t43.73\t128.29\t4.59\t0\tcen_a\n",
      "\n",
      "1462664077.1462695988.ar3\t23.57\t45.41\t128.68\t4.10\t0\tcen_a\n",
      "\n"
     ]
    }
   ],
   "source": [
    "check_cut_origin(529, 531)"
   ]
  },
  {
   "cell_type": "code",
   "execution_count": 54,
   "metadata": {},
   "outputs": [
    {
     "name": "stdout",
     "output_type": "stream",
     "text": [
      "1462695856.1462729716.ar3\t8.40\t60.31\t267.39\t1.75\t0\tsaturn\n",
      "\n",
      "1462696695.1462729827.ar3\t8.63\t57.08\t266.34\t1.68\t0\tsaturn\n",
      "\n",
      "1462697536.1462729933.ar3\t8.87\t53.86\t265.34\t1.62\t0\tsaturn\n",
      "\n",
      "1462698380.1462730071.ar3\t9.10\t50.63\t264.36\t1.62\t0\tsaturn\n",
      "\n",
      "1462699223.1462730180.ar3\t9.33\t47.41\t263.41\t1.70\t0\tsaturn\n",
      "\n",
      "1462700068.1462730308.ar3\t9.57\t44.18\t262.46\t1.72\t0\tsaturn\n",
      "\n",
      "1462700915.1462728847.ar3\t9.80\t40.96\t261.51\t1.70\t0\tsaturn\n",
      "\n",
      "1462701763.1462729101.ar3\t10.03\t37.74\t260.56\t1.68\t0\tsaturn\n",
      "\n",
      "1462702613.1462729449.ar3\t10.27\t34.51\t259.60\t1.64\t0\tsaturn\n",
      "\n"
     ]
    }
   ],
   "source": [
    "check_cut_origin(560, 568)"
   ]
  },
  {
   "cell_type": "code",
   "execution_count": 19,
   "metadata": {},
   "outputs": [
    {
     "name": "stdout",
     "output_type": "stream",
     "text": [
      "1462695856.1462729716.ar3\t8.40\t60.31\t267.39\t1.75\t0\tsaturn\n",
      "\n",
      "1462696695.1462729827.ar3\t8.63\t57.08\t266.34\t1.68\t0\tsaturn\n",
      "\n",
      "1462697536.1462729933.ar3\t8.87\t53.86\t265.34\t1.62\t0\tsaturn\n",
      "\n",
      "1462698380.1462730071.ar3\t9.10\t50.63\t264.36\t1.62\t0\tsaturn\n",
      "\n",
      "1462699223.1462730180.ar3\t9.33\t47.41\t263.41\t1.70\t0\tsaturn\n",
      "\n",
      "1462700068.1462730308.ar3\t9.57\t44.18\t262.46\t1.72\t0\tsaturn\n",
      "\n",
      "1462700915.1462728847.ar3\t9.80\t40.96\t261.51\t1.70\t0\tsaturn\n",
      "\n",
      "1462701763.1462729101.ar3\t10.03\t37.74\t260.56\t1.68\t0\tsaturn\n",
      "\n",
      "1462702613.1462729449.ar3\t10.27\t34.51\t259.60\t1.64\t0\tsaturn\n",
      "\n",
      "1462839416.1462868407.ar3\t0.27\t54.23\t132.65\t2.53\t0\tcen_a\n",
      "\n"
     ]
    }
   ],
   "source": [
    "check_cut_origin(560, 569)"
   ]
  },
  {
   "cell_type": "code",
   "execution_count": 20,
   "metadata": {},
   "outputs": [
    {
     "name": "stdout",
     "output_type": "stream",
     "text": [
      "1462843430.1462868798.ar3\t1.38\t33.57\t101.65\t2.22\t0\tmars\n",
      "\n",
      "1462843880.1462868850.ar3\t1.52\t35.30\t101.13\t2.30\t0\tmars\n",
      "\n",
      "1462844336.1462868905.ar3\t1.63\t37.02\t100.61\t2.28\t0\tmars\n",
      "\n",
      "1462844793.1462868959.ar3\t1.77\t38.75\t100.10\t2.27\t0\tmars\n",
      "\n",
      "1462845532.1462880846.ar3\t1.97\t33.51\t100.59\t2.28\t0\tsaturn\n",
      "\n",
      "1462846387.1462880942.ar3\t2.22\t36.73\t99.57\t2.11\t0\tsaturn\n",
      "\n",
      "1462847239.1462881040.ar3\t2.45\t39.96\t98.56\t2.09\t0\tsaturn\n",
      "\n",
      "1462848087.1462881142.ar3\t2.68\t43.18\t97.54\t2.06\t0\tsaturn\n",
      "\n",
      "1462848934.1462881300.ar3\t2.92\t46.40\t96.52\t2.09\t0\tsaturn\n",
      "\n",
      "1462849780.1462881398.ar3\t3.15\t49.63\t95.49\t2.06\t0\tsaturn\n",
      "\n",
      "1462850625.1462881498.ar3\t3.38\t52.85\t94.43\t1.97\t0\tsaturn\n",
      "\n",
      "1462851468.1462880220.ar3\t3.62\t56.08\t93.32\t1.91\t0\tsaturn\n",
      "\n",
      "1462852308.1462880338.ar3\t3.85\t59.30\t92.15\t1.90\t0\tsaturn\n",
      "\n"
     ]
    }
   ],
   "source": [
    "check_cut_origin(573, 585)"
   ]
  },
  {
   "cell_type": "code",
   "execution_count": 21,
   "metadata": {},
   "outputs": [
    {
     "name": "stdout",
     "output_type": "stream",
     "text": [
      "1462859676.1462890474.ar3\t5.90\t45.37\t231.01\t2.05\t0\tcen_a\n",
      "\n",
      "1462860236.1462890553.ar3\t6.05\t43.69\t231.44\t2.11\t0\tcen_a\n",
      "\n",
      "1462860794.1462890624.ar3\t6.22\t42.01\t231.78\t2.15\t0\tcen_a\n",
      "\n",
      "1462861348.1462890695.ar3\t6.37\t40.33\t232.03\t2.19\t0\tcen_a\n",
      "\n",
      "1462861904.1462890772.ar3\t6.52\t38.65\t232.22\t2.17\t0\tcen_a\n",
      "\n"
     ]
    }
   ],
   "source": [
    "check_cut_origin(590, 594)"
   ]
  },
  {
   "cell_type": "code",
   "execution_count": 55,
   "metadata": {},
   "outputs": [
    {
     "name": "stdout",
     "output_type": "stream",
     "text": [
      "1462865871.1462891089.ar3\t7.62\t60.22\t265.53\t2.03\t0\tmars\n",
      "\n",
      "1462866321.1462891141.ar3\t7.75\t58.50\t265.05\t2.05\t0\tmars\n",
      "\n",
      "1462866771.1462900812.ar3\t7.87\t56.77\t264.58\t2.08\t0\tmars\n",
      "\n",
      "1462867222.1462900882.ar3\t8.00\t55.04\t264.12\t2.10\t0\tmars\n",
      "\n",
      "1462867675.1462900942.ar3\t8.12\t53.31\t263.66\t2.16\t0\tmars\n",
      "\n",
      "1462868131.1462901004.ar3\t8.25\t60.38\t267.45\t2.17\t0\tsaturn\n",
      "\n",
      "1462868970.1462901122.ar3\t8.48\t57.16\t266.39\t2.15\t0\tsaturn\n",
      "\n",
      "1462869813.1462901255.ar3\t8.72\t53.93\t265.39\t2.17\t0\tsaturn\n",
      "\n",
      "1462870655.1462901361.ar3\t8.95\t50.71\t264.41\t2.17\t0\tsaturn\n",
      "\n",
      "1462871498.1462901462.ar3\t9.18\t47.48\t263.45\t2.11\t0\tsaturn\n",
      "\n",
      "1462872343.1462901561.ar3\t9.42\t44.26\t262.50\t2.13\t0\tsaturn\n",
      "\n",
      "1462873189.1462901712.ar3\t9.65\t41.04\t261.56\t2.10\t0\tsaturn\n",
      "\n",
      "1462874039.1462901818.ar3\t9.88\t37.81\t260.61\t2.16\t0\tsaturn\n",
      "\n",
      "1462874889.1462901926.ar3\t10.13\t34.59\t259.64\t2.19\t0\tsaturn\n",
      "\n"
     ]
    }
   ],
   "source": [
    "check_cut_origin(598, 611)"
   ]
  },
  {
   "cell_type": "code",
   "execution_count": 23,
   "metadata": {},
   "outputs": [
    {
     "name": "stdout",
     "output_type": "stream",
     "text": [
      "1463273519.1463290724.ar3\t0.87\t33.48\t101.80\t2.25\t0\tmars\n",
      "\n",
      "1463274360.1463290839.ar3\t1.10\t36.70\t100.83\t2.25\t0\tmars\n",
      "\n",
      "1463275214.1463290915.ar3\t1.33\t39.93\t99.87\t2.25\t0\tmars\n",
      "\n",
      "1463276065.1463290987.ar3\t1.57\t43.15\t98.92\t2.27\t0\tmars\n",
      "\n",
      "1463276914.1463291061.ar3\t1.80\t46.37\t97.97\t2.36\t0\tmars\n",
      "\n",
      "1463277763.1463291134.ar3\t2.03\t49.60\t97.03\t2.26\t0\tmars\n",
      "\n",
      "1463278610.1463291287.ar3\t2.27\t52.82\t96.07\t2.42\t0\tmars\n",
      "\n",
      "1463279453.1463291352.ar3\t2.50\t56.05\t95.09\t2.47\t0\tmars\n",
      "\n",
      "1463280551.1463291418.ar3\t2.82\t49.69\t95.41\t2.53\t0\tsaturn\n",
      "\n",
      "1463281379.1463291484.ar3\t3.05\t52.91\t94.34\t2.57\t0\tsaturn\n",
      "\n",
      "1463282221.1463291549.ar3\t3.28\t56.14\t93.23\t2.63\t0\tsaturn\n",
      "\n",
      "1463283063.1463291636.ar3\t3.52\t59.36\t92.05\t2.66\t0\tsaturn\n",
      "\n"
     ]
    }
   ],
   "source": [
    "check_cut_origin(621, 632)"
   ]
  },
  {
   "cell_type": "code",
   "execution_count": 24,
   "metadata": {},
   "outputs": [
    {
     "name": "stdout",
     "output_type": "stream",
     "text": [
      "1463587506.1463603320.ar3\t16.08\t35.15\t37.29\t0.49\t0\ttau_a\n",
      "\n",
      "1463588210.1463603378.ar3\t16.27\t36.79\t34.45\t0.48\t0\ttau_a\n",
      "\n",
      "1463588958.1463603508.ar3\t16.48\t38.41\t31.23\t0.50\t0\ttau_a\n",
      "\n",
      "1463589770.1463603576.ar3\t16.70\t40.02\t27.48\t0.50\t0\ttau_a\n",
      "\n",
      "1463590673.1463603650.ar3\t16.95\t41.62\t22.93\t0.52\t0\ttau_a\n",
      "\n"
     ]
    }
   ],
   "source": [
    "check_cut_origin(932, 936)"
   ]
  },
  {
   "cell_type": "code",
   "execution_count": 38,
   "metadata": {},
   "outputs": [
    {
     "name": "stdout",
     "output_type": "stream",
     "text": [
      "1463815009.1463830851.ar3\t7.27\t60.24\t270.70\t2.10\t0\tmoon\n",
      "\n",
      "1463816000.1463830932.ar3\t7.55\t56.52\t263.21\t2.21\t0\tmoon\n",
      "\n",
      "1463816992.1463831009.ar3\t7.82\t52.80\t272.30\t2.29\t0\tmoon\n",
      "\n",
      "1463817986.1463831088.ar3\t8.10\t49.08\t266.53\t2.30\t0\tmoon\n",
      "\n",
      "1463818979.1463831167.ar3\t8.38\t45.37\t260.80\t2.36\t0\tmoon\n",
      "\n",
      "1463819976.1463831245.ar3\t8.65\t41.65\t268.60\t2.36\t0\tmoon\n",
      "\n"
     ]
    }
   ],
   "source": [
    "check_cut_origin(1133, 1138)"
   ]
  },
  {
   "cell_type": "code",
   "execution_count": 34,
   "metadata": {},
   "outputs": [
    {
     "name": "stdout",
     "output_type": "stream",
     "text": [
      "1463882463.1463895028.ar3\t2.02\t40.54\t305.86\t1.81\t0\twide_12h_n\n",
      "\n",
      "1463883121.1463895090.ar3\t2.20\t40.54\t305.85\t1.95\t0\twide_12h_n\n",
      "\n"
     ]
    }
   ],
   "source": [
    "check_cut_origin(1182, 1183)"
   ]
  },
  {
   "cell_type": "code",
   "execution_count": 35,
   "metadata": {},
   "outputs": [
    {
     "name": "stdout",
     "output_type": "stream",
     "text": [
      "1463888933.1463895567.ar3\t3.80\t58.68\t222.66\t2.01\t0\tcen_a\n",
      "\n",
      "1463889565.1463905206.ar3\t3.98\t57.02\t224.43\t2.21\t0\tcen_a\n",
      "\n"
     ]
    }
   ],
   "source": [
    "check_cut_origin(1190, 1191)"
   ]
  },
  {
   "cell_type": "code",
   "execution_count": 43,
   "metadata": {},
   "outputs": [
    {
     "name": "stdout",
     "output_type": "stream",
     "text": [
      "1463899789.1463905510.ar3\t6.82\t60.32\t274.79\t1.94\t0\tmoon\n",
      "\n",
      "1463900785.1463916659.ar3\t7.10\t56.60\t267.84\t1.95\t0\tmoon\n",
      "\n",
      "1463901779.1463916810.ar3\t7.38\t52.88\t276.11\t1.97\t0\tmoon\n",
      "\n",
      "1463902774.1463916906.ar3\t7.65\t49.16\t269.53\t1.98\t0\tmoon\n",
      "\n",
      "1463903766.1463916986.ar3\t7.93\t45.44\t263.55\t1.94\t0\tmoon\n",
      "\n",
      "1463904761.1463917065.ar3\t8.20\t41.72\t271.15\t1.93\t0\tmoon\n",
      "\n"
     ]
    }
   ],
   "source": [
    "check_cut_origin(1195, 1200)"
   ]
  },
  {
   "cell_type": "code",
   "execution_count": 49,
   "metadata": {},
   "outputs": [
    {
     "name": "stdout",
     "output_type": "stream",
     "text": [
      "1464171576.1464187325.ar3\t10.32\t45.53\t302.05\t2.06\t0\twide_01h_n\n",
      "\n",
      "1464328177.1464343996.ar3\t5.82\t48.02\t48.32\t2.28\t0\twide_01h_n\n",
      "\n"
     ]
    }
   ],
   "source": [
    "check_cut_origin(1533, 1533) # interesting one\n",
    "check_cut_origin(1742, 1742)"
   ]
  },
  {
   "cell_type": "code",
   "execution_count": 48,
   "metadata": {},
   "outputs": [
    {
     "name": "stdout",
     "output_type": "stream",
     "text": [
      "1464212858.1464220365.ar3\t21.78\t40.54\t49.10\t2.35\t0\tday_14h_n\n",
      "\n",
      "1464213515.1464230258.ar3\t21.97\t40.54\t49.10\t2.40\t0\tday_14h_n\n",
      "\n",
      "1464213988.1464230270.ar3\t22.10\t45.53\t40.14\t2.47\t0\tday_14h_n\n",
      "\n",
      "1464214646.1464230331.ar3\t22.28\t45.53\t40.14\t2.43\t0\tday_14h_n\n",
      "\n",
      "1464215303.1464230397.ar3\t22.47\t45.53\t40.14\t2.38\t0\tday_14h_n\n",
      "\n",
      "1464215960.1464230458.ar3\t22.65\t45.53\t40.14\t2.41\t0\tday_14h_n\n",
      "\n",
      "1464216618.1464230518.ar3\t22.83\t45.53\t40.14\t2.48\t0\tday_14h_n\n",
      "\n",
      "1464217612.1464230577.ar3\t23.10\t45.53\t315.65\t2.52\t0\twide_12h_n\n",
      "\n",
      "1464218269.1464230664.ar3\t23.28\t45.53\t315.65\t2.53\t0\twide_12h_n\n",
      "\n",
      "1464218927.1464230728.ar3\t23.47\t45.53\t315.65\t2.53\t0\twide_12h_n\n",
      "\n",
      "1464219584.1464230786.ar3\t23.65\t45.53\t315.65\t2.73\t0\twide_12h_n\n",
      "\n",
      "1464220242.1464230841.ar3\t23.83\t45.53\t315.65\t2.93\t0\twide_12h_n\n",
      "\n",
      "1464221194.1464230889.ar3\t0.10\t45.53\t315.65\t3.11\t0\twide_12h_n\n",
      "\n",
      "1464221852.1464230948.ar3\t0.28\t45.53\t315.65\t3.18\t0\twide_12h_n\n",
      "\n",
      "1464222509.1464231005.ar3\t0.47\t45.53\t315.65\t3.20\t0\twide_12h_n\n",
      "\n",
      "1464223162.1464231055.ar3\t0.65\t45.53\t315.65\t3.13\t0\twide_12h_n\n",
      "\n",
      "1464223820.1464241928.ar3\t0.83\t45.53\t315.65\t3.18\t0\twide_12h_n\n",
      "\n"
     ]
    }
   ],
   "source": [
    "check_cut_origin(1584, 1600) # interesting one"
   ]
  },
  {
   "cell_type": "code",
   "execution_count": 57,
   "metadata": {},
   "outputs": [
    {
     "name": "stdout",
     "output_type": "stream",
     "text": [
      "1464556132.1464566009.ar3\t21.13\t40.54\t234.86\t5.89\t0\tday_02h_s\n",
      "\n",
      "1464556857.1464566041.ar3\t21.33\t40.54\t49.10\t6.01\t0\tday_14h_n\n",
      "\n",
      "1464557515.1464566097.ar3\t21.52\t40.54\t49.10\t5.75\t0\tday_14h_n\n",
      "\n",
      "1464558172.1464566154.ar3\t21.70\t40.54\t49.10\t5.69\t0\tday_14h_n\n",
      "\n",
      "1464558644.1464576141.ar3\t21.83\t45.53\t40.14\t5.43\t0\tday_14h_n\n",
      "\n",
      "1464559301.1464576201.ar3\t22.02\t45.53\t40.14\t6.20\t0\tday_14h_n\n",
      "\n",
      "1464559959.1464576260.ar3\t22.20\t45.53\t40.14\t5.49\t0\tday_14h_n\n",
      "\n",
      "1464560309.1464576290.ar3\t22.30\t45.53\t40.14\t5.24\t0\tday_14h_n\n",
      "\n",
      "1464560966.1464576354.ar3\t22.48\t45.53\t40.14\t5.48\t0\tday_14h_n\n",
      "\n",
      "1464561624.1464576419.ar3\t22.67\t45.53\t40.14\t5.27\t0\tday_14h_n\n",
      "\n",
      "1464562281.1464576477.ar3\t22.85\t45.53\t40.14\t5.56\t0\tday_14h_n\n",
      "\n",
      "1464563198.1464576522.ar3\t23.10\t48.02\t322.75\t4.96\t0\twide_12h_n\n",
      "\n",
      "1464563855.1464576582.ar3\t23.28\t48.02\t322.75\t4.67\t0\twide_12h_n\n",
      "\n",
      "1464564513.1464576641.ar3\t23.47\t48.02\t322.75\t4.81\t0\twide_12h_n\n",
      "\n",
      "1464565170.1464576700.ar3\t23.65\t48.02\t322.75\t5.13\t0\twide_12h_n\n",
      "\n",
      "1464565828.1464576756.ar3\t23.83\t48.02\t322.75\t5.62\t0\twide_12h_n\n",
      "\n"
     ]
    }
   ],
   "source": [
    "check_cut_origin(1945, 1960) # interesting one"
   ]
  },
  {
   "cell_type": "code",
   "execution_count": null,
   "metadata": {
    "collapsed": true
   },
   "outputs": [],
   "source": []
  }
 ],
 "metadata": {
  "kernelspec": {
   "display_name": "Python 2",
   "language": "python",
   "name": "python2"
  },
  "language_info": {
   "codemirror_mode": {
    "name": "ipython",
    "version": 2
   },
   "file_extension": ".py",
   "mimetype": "text/x-python",
   "name": "python",
   "nbconvert_exporter": "python",
   "pygments_lexer": "ipython2",
   "version": "2.7.5"
  }
 },
 "nbformat": 4,
 "nbformat_minor": 2
}
