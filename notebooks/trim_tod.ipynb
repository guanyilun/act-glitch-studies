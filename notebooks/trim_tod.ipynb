{
 "cells": [
  {
   "cell_type": "code",
   "execution_count": 75,
   "metadata": {
    "collapsed": true
   },
   "outputs": [],
   "source": [
    "import moby2\n",
    "import numpy as np\n",
    "import cPickle\n",
    "from matplotlib import pyplot as plt\n",
    "%matplotlib inline"
   ]
  },
  {
   "cell_type": "code",
   "execution_count": 76,
   "metadata": {
    "collapsed": true
   },
   "outputs": [],
   "source": [
    "# cut_no = 43\n",
    "cut_no = 48"
   ]
  },
  {
   "cell_type": "code",
   "execution_count": 77,
   "metadata": {
    "collapsed": true
   },
   "outputs": [],
   "source": [
    "cut_data = cPickle.load(open(\"../outputs/cuts/%d.cut\" % cut_no,\"r\"))"
   ]
  },
  {
   "cell_type": "code",
   "execution_count": 78,
   "metadata": {},
   "outputs": [
    {
     "data": {
      "text/plain": [
       "['mce', 'nsamps', 'cuts', 'glitch_param', 'sel', 'TOD']"
      ]
     },
     "execution_count": 78,
     "metadata": {},
     "output_type": "execute_result"
    }
   ],
   "source": [
    "cut_data.keys()"
   ]
  },
  {
   "cell_type": "code",
   "execution_count": 84,
   "metadata": {},
   "outputs": [
    {
     "name": "stdout",
     "output_type": "stream",
     "text": [
      "262144\n"
     ]
    }
   ],
   "source": [
    "ndet = len(cut_data['mce'].cuts)\n",
    "nsamps = cut_data['nsamps']\n",
    "print nsamps"
   ]
  },
  {
   "cell_type": "code",
   "execution_count": 80,
   "metadata": {
    "collapsed": true
   },
   "outputs": [],
   "source": [
    "cuts = cut_data['cuts'].cuts"
   ]
  },
  {
   "cell_type": "code",
   "execution_count": 82,
   "metadata": {},
   "outputs": [
    {
     "name": "stdout",
     "output_type": "stream",
     "text": [
      "[247816 247821]\n",
      "[260853 260856]\n",
      "[257213 257214]\n",
      "[260515 260517]\n",
      "[244507 244511]\n",
      "[262136 262141]\n",
      "[262134 262141]\n",
      "[189599 189601]\n",
      "[262133 262142]\n",
      "[262137 262141]\n",
      "[262134 262141]\n",
      "[118158 118262]\n",
      "[205842 205846]\n",
      "[156669 156671]\n",
      "[227019 227021]\n",
      "[118790 118819]\n",
      "[119323 119326]\n",
      "[156661 156674]\n",
      "[118134 118268]\n",
      "[217078 217086]\n",
      "[184593 184621]\n",
      "[208074 208076]\n",
      "[118399 118403]\n",
      "[118199 118224]\n",
      "[118523 118528]\n",
      "[118208 118227]\n",
      "[118158 118298]\n",
      "[262037 262064]\n",
      "[228885 228886]\n",
      "[244495 244511]\n",
      "[106326 106328]\n",
      "[249614 249619]\n",
      "[244506 244511]\n",
      "[244507 244511]\n",
      "[229358 229360]\n",
      "[262137 262141]\n",
      "[235651 235653]\n",
      "[262137 262142]\n",
      "[262133 262142]\n",
      "[262135 262140]\n",
      "[118025 118432]\n",
      "[156651 156686]\n",
      "[156645 156696]\n",
      "[231617 231621]\n",
      "[118128 118294]\n",
      "[158722 158755]\n",
      "[156666 156674]\n",
      "[164421 164471]\n",
      "[118188 118234]\n",
      "[118188 118234]\n",
      "[118035 118398]\n",
      "[118186 118237]\n",
      "[246901 246903]\n",
      "[262139 262140]\n",
      "[175952 175958]\n",
      "[151134 151181]\n",
      "[249768 249769]\n",
      "[243700 243705]\n",
      "[247491 247492]\n",
      "[249615 249618]\n",
      "[245712 245719]\n",
      "[262137 262140]\n",
      "[262138 262141]\n",
      "[262135 262141]\n",
      "[262134 262141]\n",
      "[262135 262142]\n",
      "[262136 262142]\n",
      "[118457 118459]\n",
      "[156654 156674]\n",
      "[156658 156674]\n",
      "[118185 118238]\n",
      "[156670 156672]\n",
      "[219159 219160]\n",
      "[156654 156686]\n",
      "[118155 118267]\n",
      "[118593 118597]\n",
      "[119053 119056]\n",
      "[118692 118698]\n",
      "[259233 259234]\n",
      "[249768 249771]\n",
      "[118186 118237]\n",
      "[178516 178520]\n",
      "[118126 118301]\n",
      "[153868 153870]\n",
      "[244499 244512]\n",
      "[244508 244514]\n",
      "[243699 243706]\n"
     ]
    }
   ],
   "source": [
    "for i in range(100):\n",
    "    if len(cuts[i])>0:\n",
    "        first_cut = cuts[i][-1]\n",
    "        print first_cut"
   ]
  },
  {
   "cell_type": "code",
   "execution_count": 48,
   "metadata": {
    "collapsed": true
   },
   "outputs": [],
   "source": [
    "# Based on the observation all interested first cuts start at 1\n",
    "durations = []\n",
    "for i in range(ndet):\n",
    "    if len(cuts[i])>0:\n",
    "        first_cut = cuts[i][0]\n",
    "        if first_cut[0]==1:\n",
    "            durations.append(first_cut[1]-first_cut[0])"
   ]
  },
  {
   "cell_type": "code",
   "execution_count": 52,
   "metadata": {},
   "outputs": [
    {
     "data": {
      "text/plain": [
       "(array([  6.,  26.,  32.,  27.,   0.,  34.,  16.,   9.,   4.,   1.]),\n",
       " array([  4. ,   4.8,   5.6,   6.4,   7.2,   8. ,   8.8,   9.6,  10.4,\n",
       "         11.2,  12. ]),\n",
       " <a list of 10 Patch objects>)"
      ]
     },
     "execution_count": 52,
     "metadata": {},
     "output_type": "execute_result"
    },
    {
     "data": {
      "image/png": "[encoded data removed]",
      "text/plain": [
       "<matplotlib.figure.Figure at 0x63dc790>"
      ]
     },
     "metadata": {},
     "output_type": "display_data"
    }
   ],
   "source": [
    "plt.hist(durations, bins=10)"
   ]
  },
  {
   "cell_type": "markdown",
   "metadata": {},
   "source": [
    "Let me collect info from multiple cut file"
   ]
  },
  {
   "cell_type": "code",
   "execution_count": 53,
   "metadata": {
    "collapsed": true
   },
   "outputs": [],
   "source": [
    "def first_cut_hist(cut_no):\n",
    "    cut_data = cPickle.load(open(\"../outputs/cuts/%d.cut\" % cut_no,\"r\"))\n",
    "    cuts = cut_data['cuts'].cuts\n",
    "    \n",
    "    # Based on the observation all interested first cuts start at 1\n",
    "    durations = []\n",
    "    for i in range(1056):\n",
    "        if len(cuts[i])>0:\n",
    "            first_cut = cuts[i][0]\n",
    "            if first_cut[0]==1:\n",
    "                durations.append(first_cut[1]-first_cut[0])\n",
    "    return durations"
   ]
  },
  {
   "cell_type": "code",
   "execution_count": 63,
   "metadata": {},
   "outputs": [
    {
     "name": "stdout",
     "output_type": "stream",
     "text": [
      "0\n",
      "500\n",
      "1000\n",
      "1500\n",
      "2000\n",
      "2500\n",
      "3000\n",
      "3500\n",
      "4000\n",
      "4500\n",
      "5000\n",
      "5500\n",
      "6000\n",
      "6500\n",
      "7000\n",
      "7500\n",
      "8000\n"
     ]
    }
   ],
   "source": [
    "durations = []\n",
    "for cut_no in range(8175):\n",
    "    if cut_no%500 == 0:\n",
    "        print cut_no\n",
    "    durations.extend(first_cut_hist(cut_no))"
   ]
  },
  {
   "cell_type": "code",
   "execution_count": 66,
   "metadata": {},
   "outputs": [
    {
     "data": {
      "text/plain": [
       "(array([  1.50000000e+01,   0.00000000e+00,   0.00000000e+00,\n",
       "          9.90000000e+01,   2.99500000e+03,   0.00000000e+00,\n",
       "          3.72500000e+04,   9.76680000e+04,   3.22969000e+05,\n",
       "          4.03153000e+05,   4.39430000e+05,   5.78111000e+05,\n",
       "          6.34240000e+04,   1.71600000e+03,   2.60300000e+03,\n",
       "          7.55990000e+04,   2.72460000e+05,   9.78500000e+03,\n",
       "          1.18530000e+04,   1.65000000e+04,   1.74400000e+03,\n",
       "          1.00000000e+03,   6.19000000e+02,   5.69000000e+02,\n",
       "          7.21000000e+02,   6.95000000e+02,   7.65000000e+02,\n",
       "          7.99000000e+02,   8.22000000e+02,   8.92000000e+02,\n",
       "          8.85000000e+02,   8.22000000e+02,   9.02000000e+02,\n",
       "          1.01100000e+03,   9.78000000e+02,   9.87000000e+02,\n",
       "          9.38000000e+02,   6.89000000e+02,   6.60000000e+02,\n",
       "          1.67800000e+03,   9.19000000e+02,   9.40000000e+01,\n",
       "          1.66000000e+02,   2.40000000e+01,   8.00000000e+00,\n",
       "          1.10000000e+01,   7.00000000e+00,   8.00000000e+00,\n",
       "          6.00000000e+00,   4.00000000e+00]),\n",
       " array([ 0.        ,  0.09612143,  0.19224286,  0.28836428,  0.38448571,\n",
       "         0.48060714,  0.57672857,  0.67284999,  0.76897142,  0.86509285,\n",
       "         0.96121428,  1.05733571,  1.15345713,  1.24957856,  1.34569999,\n",
       "         1.44182142,  1.53794284,  1.63406427,  1.7301857 ,  1.82630713,\n",
       "         1.92242855,  2.01854998,  2.11467141,  2.21079284,  2.30691427,\n",
       "         2.40303569,  2.49915712,  2.59527855,  2.69139998,  2.7875214 ,\n",
       "         2.88364283,  2.97976426,  3.07588569,  3.17200712,  3.26812854,\n",
       "         3.36424997,  3.4603714 ,  3.55649283,  3.65261425,  3.74873568,\n",
       "         3.84485711,  3.94097854,  4.03709996,  4.13322139,  4.22934282,\n",
       "         4.32546425,  4.42158568,  4.5177071 ,  4.61382853,  4.70994996,\n",
       "         4.80607139]),\n",
       " <a list of 50 Patch objects>)"
      ]
     },
     "execution_count": 66,
     "metadata": {},
     "output_type": "execute_result"
    },
    {
     "data": {
      "image/png": "[encoded data removed]",
      "text/plain": [
       "<matplotlib.figure.Figure at 0xaf865d0>"
      ]
     },
     "metadata": {},
     "output_type": "display_data"
    }
   ],
   "source": [
    "plt.hist(np.log(durations)/np.log(10), bins=50)"
   ]
  },
  {
   "cell_type": "code",
   "execution_count": 68,
   "metadata": {},
   "outputs": [
    {
     "data": {
      "text/plain": [
       "(array([  2.34623800e+06,   3.13700000e+03,   1.60100000e+03,\n",
       "          7.75000000e+02,   1.25600000e+03,   1.34500000e+03,\n",
       "          3.82000000e+02,   4.10000000e+01,   8.90000000e+01,\n",
       "          9.40000000e+01,   4.20000000e+01,   8.00000000e+00,\n",
       "          1.00000000e+00,   2.00000000e+00,   2.00000000e+00,\n",
       "          2.00000000e+00,   4.00000000e+00,   1.00000000e+00,\n",
       "          2.00000000e+00,   4.00000000e+00,   2.00000000e+00,\n",
       "          3.00000000e+00,   2.00000000e+00,   0.00000000e+00,\n",
       "          2.00000000e+00,   0.00000000e+00,   1.00000000e+00,\n",
       "          1.00000000e+00,   2.00000000e+00,   2.00000000e+00,\n",
       "          0.00000000e+00,   1.00000000e+00,   3.00000000e+00,\n",
       "          1.00000000e+00,   0.00000000e+00,   0.00000000e+00,\n",
       "          1.00000000e+00,   1.00000000e+00,   1.00000000e+00,\n",
       "          0.00000000e+00,   0.00000000e+00,   1.00000000e+00,\n",
       "          1.00000000e+00,   0.00000000e+00,   0.00000000e+00,\n",
       "          0.00000000e+00,   0.00000000e+00,   1.00000000e+00,\n",
       "          0.00000000e+00,   1.00000000e+00]),\n",
       " array([  1.00000000e+00,   1.28066000e+03,   2.56032000e+03,\n",
       "          3.83998000e+03,   5.11964000e+03,   6.39930000e+03,\n",
       "          7.67896000e+03,   8.95862000e+03,   1.02382800e+04,\n",
       "          1.15179400e+04,   1.27976000e+04,   1.40772600e+04,\n",
       "          1.53569200e+04,   1.66365800e+04,   1.79162400e+04,\n",
       "          1.91959000e+04,   2.04755600e+04,   2.17552200e+04,\n",
       "          2.30348800e+04,   2.43145400e+04,   2.55942000e+04,\n",
       "          2.68738600e+04,   2.81535200e+04,   2.94331800e+04,\n",
       "          3.07128400e+04,   3.19925000e+04,   3.32721600e+04,\n",
       "          3.45518200e+04,   3.58314800e+04,   3.71111400e+04,\n",
       "          3.83908000e+04,   3.96704600e+04,   4.09501200e+04,\n",
       "          4.22297800e+04,   4.35094400e+04,   4.47891000e+04,\n",
       "          4.60687600e+04,   4.73484200e+04,   4.86280800e+04,\n",
       "          4.99077400e+04,   5.11874000e+04,   5.24670600e+04,\n",
       "          5.37467200e+04,   5.50263800e+04,   5.63060400e+04,\n",
       "          5.75857000e+04,   5.88653600e+04,   6.01450200e+04,\n",
       "          6.14246800e+04,   6.27043400e+04,   6.39840000e+04]),\n",
       " <a list of 50 Patch objects>)"
      ]
     },
     "execution_count": 68,
     "metadata": {},
     "output_type": "execute_result"
    },
    {
     "data": {
      "image/png": "[encoded data removed]",
      "text/plain": [
       "<matplotlib.figure.Figure at 0xb421f10>"
      ]
     },
     "metadata": {},
     "output_type": "display_data"
    }
   ],
   "source": [
    "plt.hist(durations, bins=50)"
   ]
  },
  {
   "cell_type": "code",
   "execution_count": 72,
   "metadata": {},
   "outputs": [
    {
     "data": {
      "text/plain": [
       "75.0"
      ]
     },
     "execution_count": 72,
     "metadata": {},
     "output_type": "execute_result"
    }
   ],
   "source": [
    "30000.0/400"
   ]
  },
  {
   "cell_type": "code",
   "execution_count": 73,
   "metadata": {},
   "outputs": [
    {
     "data": {
      "text/plain": [
       "10000"
      ]
     },
     "execution_count": 73,
     "metadata": {},
     "output_type": "execute_result"
    }
   ],
   "source": [
    "25*400"
   ]
  },
  {
   "cell_type": "code",
   "execution_count": 74,
   "metadata": {},
   "outputs": [
    {
     "data": {
      "text/plain": [
       "150.0"
      ]
     },
     "execution_count": 74,
     "metadata": {},
     "output_type": "execute_result"
    }
   ],
   "source": [
    "60000.0/400"
   ]
  },
  {
   "cell_type": "code",
   "execution_count": 95,
   "metadata": {},
   "outputs": [],
   "source": [
    "def last_cut_hist(cut_no):\n",
    "    cut_data = cPickle.load(open(\"../outputs/cuts/%d.cut\" % cut_no,\"r\"))\n",
    "    cuts = cut_data['cuts'].cuts\n",
    "    nsamps = cut_data['nsamps']\n",
    "    \n",
    "    # Based on the observation all interested first cuts start at 1\n",
    "    durations = []\n",
    "    for i in range(1056):\n",
    "        if len(cuts[i])>0:\n",
    "            last_cut = cuts[i][-1]\n",
    "            if last_cut[1]>nsamps-4:\n",
    "                durations.append(last_cut[1]-last_cut[0])\n",
    "    return durations"
   ]
  },
  {
   "cell_type": "code",
   "execution_count": 99,
   "metadata": {},
   "outputs": [
    {
     "name": "stdout",
     "output_type": "stream",
     "text": [
      "0\n",
      "500\n",
      "1000\n",
      "1500\n",
      "2000\n",
      "2500\n",
      "3000\n",
      "3500\n",
      "4000\n",
      "4500\n",
      "5000\n",
      "5500\n",
      "6000\n",
      "6500\n"
     ]
    }
   ],
   "source": [
    "durations = []\n",
    "for cut_no in range(7000):\n",
    "    if cut_no%500 == 0:\n",
    "        print cut_no\n",
    "    durations.extend(last_cut_hist(cut_no))"
   ]
  },
  {
   "cell_type": "code",
   "execution_count": 100,
   "metadata": {},
   "outputs": [
    {
     "data": {
      "text/plain": [
       "(array([  2.91900000e+03,   0.00000000e+00,   0.00000000e+00,\n",
       "          1.50030000e+04,   0.00000000e+00,   3.93120000e+04,\n",
       "          6.60890000e+04,   8.89150000e+04,   2.27699000e+05,\n",
       "          1.30664000e+05,   4.09953000e+05,   2.84521000e+05,\n",
       "          1.53947000e+05,   6.27000000e+02,   8.32000000e+02,\n",
       "          4.48100000e+04,   2.33439000e+05,   7.21360000e+04,\n",
       "          4.81200000e+03,   9.84230000e+04,   4.97000000e+03,\n",
       "          3.35160000e+04,   1.66670000e+04,   8.09900000e+03,\n",
       "          5.94300000e+03,   3.36100000e+03,   2.30100000e+03,\n",
       "          1.76600000e+03,   2.00400000e+03,   2.08800000e+03,\n",
       "          1.96100000e+03,   2.56700000e+03,   3.19000000e+03,\n",
       "          3.78000000e+03,   5.02800000e+03,   5.99800000e+03,\n",
       "          6.29600000e+03,   7.43200000e+03,   7.15200000e+03,\n",
       "          5.46200000e+03,   4.31100000e+03,   2.20900000e+03,\n",
       "          1.29400000e+03,   9.70000000e+01,   1.75000000e+02,\n",
       "          1.06000000e+02,   8.80000000e+01,   6.20000000e+01,\n",
       "          4.40000000e+01,   3.10000000e+01]),\n",
       " array([ 0.        ,  0.09498297,  0.18996594,  0.28494892,  0.37993189,\n",
       "         0.47491486,  0.56989783,  0.66488081,  0.75986378,  0.85484675,\n",
       "         0.94982972,  1.0448127 ,  1.13979567,  1.23477864,  1.32976161,\n",
       "         1.42474458,  1.51972756,  1.61471053,  1.7096935 ,  1.80467647,\n",
       "         1.89965945,  1.99464242,  2.08962539,  2.18460836,  2.27959134,\n",
       "         2.37457431,  2.46955728,  2.56454025,  2.65952322,  2.7545062 ,\n",
       "         2.84948917,  2.94447214,  3.03945511,  3.13443809,  3.22942106,\n",
       "         3.32440403,  3.419387  ,  3.51436998,  3.60935295,  3.70433592,\n",
       "         3.79931889,  3.89430187,  3.98928484,  4.08426781,  4.17925078,\n",
       "         4.27423375,  4.36921673,  4.4641997 ,  4.55918267,  4.65416564,\n",
       "         4.74914862]),\n",
       " <a list of 50 Patch objects>)"
      ]
     },
     "execution_count": 100,
     "metadata": {},
     "output_type": "execute_result"
    },
    {
     "data": {
      "image/png": "[encoded data removed]",
      "text/plain": [
       "<matplotlib.figure.Figure at 0x7771cd0>"
      ]
     },
     "metadata": {},
     "output_type": "display_data"
    }
   ],
   "source": [
    "plt.hist(np.log(durations)/np.log(10), bins=50)"
   ]
  },
  {
   "cell_type": "code",
   "execution_count": 108,
   "metadata": {
    "collapsed": true
   },
   "outputs": [],
   "source": [
    "def trim_edge_cuts(cuts, nsamps):\n",
    "    THRES = 10 # sampling points\n",
    "    for i in range(1056):\n",
    "        cuts[i] = cuts[i][(cuts[i][:,0]>THRES) & (cuts[i][:,1]<nsamps-THRES)]\n",
    "        \n",
    "    return cuts"
   ]
  },
  {
   "cell_type": "code",
   "execution_count": 109,
   "metadata": {
    "collapsed": true
   },
   "outputs": [],
   "source": [
    "cut_data = cPickle.load(open(\"../outputs/cuts/%d.cut\" % cut_no,\"r\"))"
   ]
  },
  {
   "cell_type": "code",
   "execution_count": 110,
   "metadata": {
    "collapsed": true
   },
   "outputs": [],
   "source": [
    "cuts = cut_data['cuts'].cuts"
   ]
  },
  {
   "cell_type": "code",
   "execution_count": 112,
   "metadata": {},
   "outputs": [],
   "source": [
    "new_cuts = trim_edge_cuts(cuts, nsamps)"
   ]
  },
  {
   "cell_type": "code",
   "execution_count": 115,
   "metadata": {},
   "outputs": [
    {
     "data": {
      "text/plain": [
       "CutsVector([[ 11260,  11605],\n",
       "            [ 46226,  46273],\n",
       "            [139601, 139607],\n",
       "            [194926, 194929],\n",
       "            [194962, 195032]], dtype=int32)"
      ]
     },
     "execution_count": 115,
     "metadata": {},
     "output_type": "execute_result"
    }
   ],
   "source": [
    "new_cuts[10]"
   ]
  },
  {
   "cell_type": "code",
   "execution_count": null,
   "metadata": {
    "collapsed": true
   },
   "outputs": [],
   "source": []
  }
 ],
 "metadata": {
  "kernelspec": {
   "display_name": "Python 2",
   "language": "python",
   "name": "python2"
  },
  "language_info": {
   "codemirror_mode": {
    "name": "ipython",
    "version": 2
   },
   "file_extension": ".py",
   "mimetype": "text/x-python",
   "name": "python",
   "nbconvert_exporter": "python",
   "pygments_lexer": "ipython2",
   "version": "2.7.5"
  }
 },
 "nbformat": 4,
 "nbformat_minor": 2
}
