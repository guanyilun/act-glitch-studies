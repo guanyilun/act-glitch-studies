{
 "cells": [
  {
   "cell_type": "markdown",
   "metadata": {},
   "source": [
    "# Notebook to Analyze Beam Profiles"
   ]
  },
  {
   "cell_type": "code",
   "execution_count": 5,
   "metadata": {
    "scrolled": true
   },
   "outputs": [
    {
     "name": "stdout",
     "output_type": "stream",
     "text": [
      "Populating the interactive namespace from numpy and matplotlib\n"
     ]
    },
    {
     "name": "stderr",
     "output_type": "stream",
     "text": [
      "/mnt/act3/users/jpm136/miniconda2/lib/python2.7/site-packages/IPython/core/magics/pylab.py:161: UserWarning: pylab import has clobbered these variables: ['choice', 'uniform', 'shuffle', 'sample', 'f', 'rand', 'seed', 'randint', 'random', 'triangular']\n",
      "`%matplotlib` prevents importing * from pylab and numpy\n",
      "  \"\\n`%matplotlib` prevents importing * from pylab and numpy\"\n"
     ]
    }
   ],
   "source": [
    "import numpy as np\n",
    "import numpy.random as rand\n",
    "from scipy.constants import codata\n",
    "import scipy.interpolate as si\n",
    "from todloop.utils.pixels import PixelReader\n",
    "from todloop.base import Routine, TODLoop\n",
    "import cPickle\n",
    "import os\n",
    "import pprint\n",
    "from todloop.utils.cuts import pixels_affected_in_event\n",
    "from plot_glitches.routines import PlotGlitches\n",
    "import moby2\n",
    "from moby2.scripting import get_filebase\n",
    "from random import *\n",
    "\n",
    "%pylab inline"
   ]
  },
  {
   "cell_type": "markdown",
   "metadata": {},
   "source": [
    "## Import Relevant TOD Data"
   ]
  },
  {
   "cell_type": "code",
   "execution_count": 6,
   "metadata": {},
   "outputs": [],
   "source": [
    "\"\"\"\n",
    "Change tod variable to track you want to analyze below!\n",
    "\n",
    "\"\"\"\n",
    "\n",
    "tod = 10000\n",
    "input_dir=\"../outputs/s16_pa3_list/cosig/\"\n",
    "postfix = \"pickle\"\n",
    "filepath = \"%s%s.%s\" % (input_dir, tod, postfix)\n",
    "if os.path.isfile(filepath):\n",
    "    with open(filepath, \"r\") as f:\n",
    "        cuts = cPickle.load(f)\n",
    "else:\n",
    "    print 'Cosig data NOT loaded!'\n",
    "\n",
    "fb = get_filebase()\n",
    "loop = TODLoop()\n",
    "loop.add_tod_list(\"../data/s16_pa3_list.txt\")\n",
    "loop.run(tod,tod+1)\n",
    "tod_name = loop.get_name()\n",
    "tod_filename = fb.filename_from_name(tod_name, single=True)  # get file path\n",
    "tod_data = moby2.scripting.get_tod({'filename': tod_filename, 'repair_pointing': True})\n",
    "amdata = moby2.scripting.get_array_data({'season' : '2016','array_name': 'AR3'})\n",
    "sky_x = amdata['sky_x']\n",
    "sky_y = amdata['sky_y']\n",
    "\n",
    "#fix optical sign\n",
    "optical_signs = tod_data.info.array_data['optical_sign']\n",
    "tod_data.data = tod_data.data*optical_signs[:, np.newaxis]\n",
    "\n",
    "#calibrate\n",
    "cal = moby2.scripting.get_calibration({'type': 'iv', 'source': 'data'}, tod=tod_data)\n",
    "cal_mask, cal_val = cal.get_property('cal', det_uid=tod_data.det_uid)\n",
    "tod_data.data *= cal_val[:,None]\n",
    "    "
   ]
  },
  {
   "cell_type": "markdown",
   "metadata": {},
   "source": [
    "## Load Beam Profile for Array 3, 90 GHz \n",
    "After loading the profile, set the variables `pa3_90x` and `pa3_90y` to columns of beam profile text file so that they can be interpolated as a function. \n",
    "<br>\n",
    "For example, if you want to know what the value of the profile is at a certain angular separation $x$ , you can call this function $f(x)$ to return its $y$-value."
   ]
  },
  {
   "cell_type": "code",
   "execution_count": 7,
   "metadata": {},
   "outputs": [
    {
     "data": {
      "text/plain": [
       "<matplotlib.legend.Legend at 0x7fb9c43d1110>"
      ]
     },
     "execution_count": 7,
     "metadata": {},
     "output_type": "execute_result"
    },
    {
     "data": {
      "image/png": "[encoded data removed]",
      "text/plain": [
       "<Figure size 864x576 with 1 Axes>"
      ]
     },
     "metadata": {},
     "output_type": "display_data"
    }
   ],
   "source": [
    "Beam_PA3_90 = np.loadtxt('beam_profile_170112_2015_pa3_90GHz_instant.txt', unpack=True, delimiter='  ', skiprows=4)\n",
    "\n",
    "pa3_90x = Beam_PA3_90[0]\n",
    "pa3_90y = Beam_PA3_90[1]\n",
    "x = np.linspace(min(pa3_90x),max(pa3_90x),1000)\n",
    "beam_profile = si.interp1d(pa3_90x,pa3_90y)\n",
    "\n",
    "plt.figure(figsize=(12,8))\n",
    "plt.title('Beam Profile of PA3 90 GHz')\n",
    "plt.plot(pa3_90x,pa3_90y,'r',lw=2,label=\"raw\")\n",
    "plt.plot(x,beam_profile(x),'k--',label=\"interp\")\n",
    "plt.legend()\n"
   ]
  },
  {
   "cell_type": "markdown",
   "metadata": {},
   "source": [
    "## Functions to Compute Brightness Temperature, Noise Levels, and Solid Angles\n",
    "These functions will be called upon later when calculating the effective temperature and FRB flux density. \n",
    "<br>\n",
    "<br>\n",
    "`Solid_Angle_MC` is a function that takes the integration methods of `Solid_Angle` and uses a Monte Carlo method of integration to more accurately define the random nature of FRB signals. "
   ]
  },
  {
   "cell_type": "code",
   "execution_count": 8,
   "metadata": {},
   "outputs": [],
   "source": [
    "def Brightness_Temperature(Signal, Freq, Omega):\n",
    "    \"\"\"\n",
    "    #------------------------------------------------#\n",
    "    # Description: Computes the Brightness T in      #\n",
    "    #              Kelvin for an FRB signal seen in  #\n",
    "    #              the Atacama Cosmology Telescope.  #\n",
    "    #                                                #\n",
    "    # Parameters:                                    #\n",
    "    #             Signal  : Signal Strength (Jy);    #\n",
    "    #               Freq  : Frequency (GHz);         #\n",
    "    #              Omega  : Solid Angle (sr);        #\n",
    "    #------------------------------------------------#\n",
    "    \n",
    "    \"\"\"\n",
    "    \n",
    "    # Boltzmann Constant:\n",
    "    k_B = codata.value('Boltzmann constant')\n",
    "    \n",
    "    # Computes the radiation Wavelength (in meters):\n",
    "    Lambda = 3e8/(Freq*1e9)\n",
    "    \n",
    "    # Jansky to J/m² Convertion:\n",
    "    Jy_to_Jpm2 = 1e-26\n",
    "    \n",
    "    return ((Lambda**2)*Signal*Jy_to_Jpm2)/(2*k_B*Omega)\n",
    "\n",
    "\n",
    "def Detector_Noise(Duration):\n",
    "    \"\"\"\n",
    "    #------------------------------------------------#\n",
    "    # Description: Computes the detector noise level #\n",
    "    #              for a signal of given duration.   #\n",
    "    #                                                #\n",
    "    # Parameters:                                    #\n",
    "    #             Duration  : Signal duration (ms);  #\n",
    "    #------------------------------------------------#\n",
    "    \n",
    "    \"\"\"\n",
    "    \n",
    "    # Average Detector Noise (in K√s):\n",
    "    Av_Det_Noise = 400e-6\n",
    "    \n",
    "    # Computes the Noise Level:\n",
    "    Noise_Level = Av_Det_Noise/np.sqrt(Duration/1000.)\n",
    "    \n",
    "    return Noise_Level\n",
    "\n",
    "    \n",
    "def Solid_Angle(Pol_Int, Az_Int, Beam):\n",
    "    \"\"\"\n",
    "    #------------------------------------------------#\n",
    "    # Description: Computes the instrument's beam    #\n",
    "    #              solid angle integral for a given  #\n",
    "    #              range of angles in spherical      #\n",
    "    #              coordinates. 'Pol_Int' as well as #\n",
    "    #              'Az_Int' must be a lists with two #\n",
    "    #              elements each, determining the    #\n",
    "    #              initial and final angles of       #\n",
    "    #              integration for those variables.  #\n",
    "    #              The 'Beam' must be an array of    #\n",
    "    #              dimension 2 encapsulating the     #\n",
    "    #              beam profile.                     #\n",
    "    #                                                #\n",
    "    # Parameters:                                    #\n",
    "    #             Pol_Int  : Polar Angles (degrees); #\n",
    "    #              Az_Int  : Azimuthal Angles (rad); #\n",
    "    #                Beam  : Beam Profile;           #\n",
    "    #------------------------------------------------#\n",
    "    \n",
    "    \"\"\"\n",
    "    \n",
    "    # Converts the Beam Range to Radians:\n",
    "    Range = Beam[0]*np.pi/180.\n",
    "    \n",
    "    # Computes the Azimuthal Integral:\n",
    "    Phi_Partial = np.abs(Az_Int[1] - Az_Int[0])\n",
    "    \n",
    "    # Constructs a Filter Imposing the Polar Integration Limits:\n",
    "    Filter = np.logical_and(Beam[0] > Pol_Int[0], Beam[0] < Pol_Int[1])\n",
    "    \n",
    "    # Computes the Polar Integration:\n",
    "    Theta_Partial = np.trapz(Beam[1][Filter]*np.sin(Range[Filter]), Range[Filter])\n",
    "    \n",
    "    return Phi_Partial*Theta_Partial\n",
    "\n",
    "\n",
    "def Solid_Angle_MC(Pol_Int, Az_Int, Beam):\n",
    "    \n",
    "    # Converts the Beam Range to Radians:\n",
    "    Range = Beam[0]*np.pi/180.\n",
    "    \n",
    "    # Computes the Azimuthal Integral:\n",
    "    Phi_Partial = np.abs(Az_Int[1] - Az_Int[0])\n",
    "    \n",
    "    # Constructs a Filter Imposing the Polar Integration Limits:\n",
    "    Filter = np.logical_and(Beam[0] > Pol_Int[0], Beam[0] < Pol_Int[1])\n",
    "    \n",
    "    y = Beam[1][Filter]*np.sin(Range[Filter])\n",
    "    x = Range[Filter]\n",
    "    \n",
    "    #Polar Integrand Function\n",
    "    theta_f = si.interp1d(x,y)\n",
    "    \n",
    "    #For precision, increase this number\n",
    "    nrectangles = 1000\n",
    "\n",
    "    # Integration domain\n",
    "    xlow = min(Range[Filter])\n",
    "    xhigh = max(Range[Filter])\n",
    "\n",
    "    # randomly distributed mid-points of each int area\n",
    "    xvalues = xlow + (xhigh-xlow)*np.random.random(nrectangles) #x-value for each int area\n",
    "    fvalues = theta_f(xvalues) # f(x_i) ==> y-value for each int area\n",
    "    areas = fvalues * (xhigh-xlow)/nrectangles # Area (x*y)\n",
    "    \n",
    "    #Polar integral is sum of areas\n",
    "    theta_integral = sum(areas)\n",
    "   \n",
    "    return theta_integral*Phi_Partial\n",
    "    \n",
    "  \n",
    "\n"
   ]
  },
  {
   "cell_type": "markdown",
   "metadata": {},
   "source": [
    "### Check to see if Monte Carlo method is working as expected..."
   ]
  },
  {
   "cell_type": "code",
   "execution_count": 9,
   "metadata": {},
   "outputs": [
    {
     "name": "stdout",
     "output_type": "stream",
     "text": [
      "PA3 (90 GHz):\n",
      "Non Monte-Carlo Omega Ratio: 0.636731603120909\n",
      "Monte-Carlo Omega Ratio: 0.641620841200296\n",
      "Total Solid Angle: 5.181628445594052e-07 sr\n",
      "Ratio of beam profile at angular separation of 0.055 = 0.020870223246878\n"
     ]
    }
   ],
   "source": [
    "print 'PA3 (90 GHz):'\n",
    "omega_tot = Solid_Angle([0, 0.9/2.], [0, np.pi*2.], Beam_PA3_90)\n",
    "omega_tot_mc = Solid_Angle_MC([0, 0.9/2.], [0, np.pi*2.], Beam_PA3_90)\n",
    "omega_part = Solid_Angle([0.00, 0.055/2.], [0, 2*np.pi], Beam_PA3_90)\n",
    "omega_part_mc = Solid_Angle_MC([0.00, 0.055/2.], [0, 2*np.pi], Beam_PA3_90)\n",
    "omega_ratio = omega_part/omega_tot\n",
    "omega_ratio_mc = omega_part_mc/omega_tot_mc\n",
    "print 'Non Monte-Carlo Omega Ratio:', omega_ratio\n",
    "print 'Monte-Carlo Omega Ratio:', omega_ratio_mc\n",
    "print 'Total Solid Angle:', Solid_Angle([0, 0.9/2.], [0, 2*np.pi], Beam_PA3_90), 'sr'\n",
    "\n",
    "\n",
    "\n",
    "\n",
    "a = 0.055\n",
    "print 'Ratio of beam profile at angular separation of', a, '=', beam_profile(a)"
   ]
  },
  {
   "cell_type": "markdown",
   "metadata": {},
   "source": [
    "## Now Apply These Functions to Data \n",
    "\n",
    "First, initialize the plot for the detector array and change `event` to some highly likely FRB event from `cor_analysis.py` for this TOD track. Collect the pixels affected in this event under `pixels`. \n",
    "<br>\n",
    "<br>\n",
    "The next block of code will list the pixels affected in the event, their xy-coordinates gathered from `sky_x` and `sky_y` and then, it will plot the Temperature of the Signal ($K$) as a function of the FRB Flux Density in $Jy$ (in terms of Brightness Temperature and Solid Angle Ratio). The dotted line signifies the noise level the signal must be above for us to be able to detect it as an FRB. \n",
    "<br>\n",
    "<br>\n",
    "Running the second block of code multiple times, you will find that the graph displayed is not the same, because the solid angle produced by the random FRB signal changes every time. `l` can be set to a distance from the center of the detector defining the radius of the solid angle you are interested in, and while this distance remains the same in all runs (unless explicitly changed), the solid angle changes adhering to the randomized nature of the Monte Carlo method. "
   ]
  },
  {
   "cell_type": "code",
   "execution_count": 10,
   "metadata": {},
   "outputs": [],
   "source": [
    "pr = PixelReader()\n",
    "pg = PlotGlitches(tod_key=\"tod_data\", cosig_key=\"cuts\")\n",
    "cs = cuts['coincident_signals']\n",
    "#event = [203586, 203591, 5, 3] \n",
    "#event = [217833, 217837, 4, 4]\n",
    "event = [163370, 163373, 3, 2]\n",
    "stime = event[0]\n",
    "etime = event[1]\n",
    "pixels = pixels_affected_in_event(cs,event)"
   ]
  },
  {
   "cell_type": "code",
   "execution_count": 11,
   "metadata": {},
   "outputs": [
    {
     "name": "stdout",
     "output_type": "stream",
     "text": [
      "[593, 721]\n",
      "XY Coordinates of Pixels in Degrees:\n",
      "Distance of signal 1/ 5.0\n",
      "\n",
      "\n",
      "593 : -0.17238157027078363 0.5600199504716703\n",
      "Omega Ratio: 0.1771494115544412\n",
      "\n",
      "\n",
      "721 : -0.17278345003427378 0.5058157450492972\n",
      "Omega Ratio: 0.17187539261958348\n",
      "\n",
      "\n"
     ]
    },
    {
     "data": {
      "image/png": "[encoded data removed]",
      "text/plain": [
       "<Figure size 864x576 with 1 Axes>"
      ]
     },
     "metadata": {},
     "output_type": "display_data"
    }
   ],
   "source": [
    "# Signal Range in Jansky:\n",
    "Signal_Range = np.linspace(0, 100, 1000)\n",
    "\n",
    "# Duration Range in Milliseconds:\n",
    "Duration_Range = np.linspace(1, 10, 5)\n",
    "\n",
    "plt.figure(figsize=(12,8))\n",
    "\n",
    "print pixels\n",
    "print 'XY Coordinates of Pixels in Degrees:'\n",
    "\n",
    "distance = [1.,2.,3.,4.,5.,6.,7.,8.,9.,10.]\n",
    "#l = random.choice(distance)\n",
    "l = 5.\n",
    "print 'Distance of signal 1/', l\n",
    "print '\\n'\n",
    "for i,j in enumerate(pixels):\n",
    "    x = sky_x[pixels[i]]\n",
    "    y = sky_y[pixels[i]]\n",
    "    z = .055 #dist between adjacent detectors\n",
    "    omega_tot = Solid_Angle_MC([0, 0.9/l], [0, 2*np.pi], Beam_PA3_90)\n",
    "    omega_part = Solid_Angle_MC([0.00, z/l], [0, 2*np.pi], Beam_PA3_90)\n",
    "    omega_ratio = omega_part/omega_tot\n",
    "    plt.plot(Signal_Range, Brightness_Temperature(Signal_Range, 90, 5.18162844559e-07)*omega_ratio/2.,'--', label=str(j))\n",
    "    print j, ':', x, y\n",
    "    print 'Omega Ratio:', omega_ratio\n",
    "    print '\\n'\n",
    "\n",
    "plt.hlines(Detector_Noise(2.5), Signal_Range.min(), Signal_Range.max(), alpha=0.5, linestyle='dotted', label='Noise Level (2.5 ms)')    \n",
    "#plt.hlines(Detector_Noise(7.5), Signal_Range.min(), Signal_Range.max(), alpha=0.5, linestyle='dashed', label='T = 7.5 ms')\n",
    "#plt.hlines(Detector_Noise(15), Signal_Range.min(), Signal_Range.max(), alpha=0.5, linestyle='solid', label='T = 15 ms')\n",
    "\n",
    "plt.yscale('log')\n",
    "plt.xlim([0, 30])\n",
    "\n",
    "plt.xlabel('FRB Flux Density, S (Jy)')\n",
    "plt.ylabel('Signal (K)')\n",
    "\n",
    "plt.title ('PA3 (90 GHz)')\n",
    "plt.legend(title='Detector ID',loc=4)\n",
    "plt.show()"
   ]
  },
  {
   "cell_type": "markdown",
   "metadata": {},
   "source": [
    "### Define a `timeseries` function to return the time profile of an FRB candidate\n",
    "This function is set to return the timeseries for 90GHz data from an event.\n",
    "<br>\n",
    "Currently, it is not being used to plot anything, but it may be useful later if you need to see the time profile and verify that the glitch is correctly classified as an FRB candidate\n"
   ]
  },
  {
   "cell_type": "code",
   "execution_count": 12,
   "metadata": {},
   "outputs": [],
   "source": [
    "def timeseries(pixel_id, s_time, e_time, buffer=10):\n",
    "    start_time = s_time - buffer\n",
    "    end_time = e_time + buffer\n",
    "    a1, a2 = pr.get_f1(pixel_id)\n",
    "    d1, d2 = tod_data.data[a1], tod_data.data[a2]\n",
    "    # try to remove the mean from start_time to end_time                                                                                                     \n",
    "    d1 -= np.mean(d1[start_time:end_time])\n",
    "\n",
    "    time = tod_data.ctime - tod_data.ctime[0]\n",
    "    time = time[start_time:end_time]\n",
    "\n",
    "    d_1 = d1[start_time:end_time]\n",
    "\n",
    "    return time, d_1"
   ]
  },
  {
   "cell_type": "markdown",
   "metadata": {},
   "source": [
    "## Randomly Generate a Location for an FRB Event to Take Place on the Detector Array\n",
    "\n",
    "This next block of code will plot the detector array (in red), the pixels affected in the event (in blue) and a randomly generated location for an FRB even to take place (in green). \n",
    "This will be later used to understand how detectors at different distances from the event detect the event and what is the threshold distance for detecting an FRB event."
   ]
  },
  {
   "cell_type": "code",
   "execution_count": 13,
   "metadata": {},
   "outputs": [
    {
     "data": {
      "image/png": "[encoded data removed]",
      "text/plain": [
       "<Figure size 720x576 with 1 Axes>"
      ]
     },
     "metadata": {},
     "output_type": "display_data"
    }
   ],
   "source": [
    "plt.figure(figsize=(10,8))\n",
    "x,y = np.random.uniform(-7,7),np.random.uniform(-7,7)\n",
    "pr.plot(pixels)\n",
    "plt.plot(x,y,'go',label=\"FRB Signal\")\n",
    "plt.title('Pixels Affected and Random FRB Event')\n",
    "plt.legend(loc=4)\n",
    "plt.show()"
   ]
  },
  {
   "cell_type": "markdown",
   "metadata": {},
   "source": [
    "## Generate Plots of Neighboring Pixels\n",
    "\n",
    "For all pixels affected in an event, the following block of code will generate plots of the neighboring pixels.\n",
    "This data will later be used to understand how weakly or strongly neighboring pixels detect the event. "
   ]
  },
  {
   "cell_type": "code",
   "execution_count": 14,
   "metadata": {},
   "outputs": [
    {
     "name": "stdout",
     "output_type": "stream",
     "text": [
      "Pixel Affected: 593\n",
      "Adjacent Pixels: [208, 464, 465, 593, 594, 720, 721]\n",
      "Ratios of adjacent signals: [ 7.12385095e-13 -5.16987883e-26  5.66189881e-13  1.47095257e-11\n",
      "  4.54735584e-12  9.01449906e-13  6.00497036e-12]\n"
     ]
    },
    {
     "data": {
      "image/png": "[encoded data removed]",
      "text/plain": [
       "<Figure size 432x288 with 2 Axes>"
      ]
     },
     "metadata": {},
     "output_type": "display_data"
    },
    {
     "name": "stdout",
     "output_type": "stream",
     "text": [
      "Pixel Affected: 721\n",
      "Adjacent Pixels: [49, 50, 593, 594, 720, 721, 722]\n",
      "Ratios of adjacent signals: [3.27739664e-13 0.00000000e+00 1.47095257e-11 4.54735584e-12\n",
      " 9.01449906e-13 6.00497036e-12 3.23482659e-12]\n"
     ]
    },
    {
     "data": {
      "image/png": "[encoded data removed]",
      "text/plain": [
       "<Figure size 432x288 with 2 Axes>"
      ]
     },
     "metadata": {},
     "output_type": "display_data"
    }
   ],
   "source": [
    "for i in pixels:\n",
    "    j = pr.get_pixels_within_radius(i,1)\n",
    "    x, y = timeseries(i,stime,etime)\n",
    "    base_sig = max(y)\n",
    "    max_sig = []\n",
    "    for n in j:\n",
    "        a,b = timeseries(n,stime,etime)\n",
    "        max_sig.append(max(b))\n",
    "    ratios = np.asarray(max_sig)\n",
    "    ratios/base_sig\n",
    "    print 'Pixel Affected:', i \n",
    "    print 'Adjacent Pixels:', j\n",
    "    print 'Ratios of adjacent signals:', ratios\n",
    "    plt.subplot(121)\n",
    "    pr.plot(i)\n",
    "    \n",
    "    plt.subplot(122)\n",
    "    pr.plot(j)\n",
    "    plt.show()\n",
    "    \n",
    "#x, y = timeseries(527,stime,etime)\n",
    "#plt.plot(x,y)\n",
    "#plt.show()"
   ]
  },
  {
   "cell_type": "code",
   "execution_count": null,
   "metadata": {},
   "outputs": [],
   "source": []
  }
 ],
 "metadata": {
  "kernelspec": {
   "display_name": "Python 2",
   "language": "python",
   "name": "python2"
  },
  "language_info": {
   "codemirror_mode": {
    "name": "ipython",
    "version": 2
   },
   "file_extension": ".py",
   "mimetype": "text/x-python",
   "name": "python",
   "nbconvert_exporter": "python",
   "pygments_lexer": "ipython2",
   "version": "2.7.14"
  }
 },
 "nbformat": 4,
 "nbformat_minor": 2
}
